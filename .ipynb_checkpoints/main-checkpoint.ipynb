{
 "cells": [
  {
   "cell_type": "code",
   "execution_count": 1,
   "metadata": {},
   "outputs": [],
   "source": [
    "import warnings\n",
    "warnings.simplefilter(action='ignore', category=FutureWarning)\n",
    "\n",
    "from models import *\n",
    "from ppo import PPO, PPO_RND, PPO_ICM\n",
    "from buffer import RolloutStorage\n",
    "from env import *\n",
    "\n",
    "import torch\n",
    "import torch.distributions as distributions\n",
    "import torch.nn.functional as F\n",
    "import torch.optim\n",
    "import numpy as np\n",
    "\n",
    "import gym\n",
    "from stable_baselines3.common.cmd_util import make_vec_env\n",
    "from stable_baselines3.common.vec_env import vec_normalize\n"
   ]
  },
  {
   "cell_type": "code",
   "execution_count": null,
   "metadata": {},
   "outputs": [],
   "source": [
    "import pybulletgym\n",
    "env = make_vec_env(\"CartPole-v0\", 1)\n",
    "env = VecNormalize(env)\n",
    "model = PPO(env = env, lr = 0.0003, nstep = 256, batch_size = 256)\n",
    "model.learn(total_timesteps = 1e+7, log_interval = 10)"
   ]
  },
  {
   "cell_type": "code",
   "execution_count": 11,
   "metadata": {},
   "outputs": [],
   "source": [
    "import pybulletgym\n",
    "env = make_vec_env(\"MountainCar-v0\", 4, vec_env_cls = SubprocVecEnv)\n",
    "#env = VecNormalize(env)"
   ]
  },
  {
   "cell_type": "code",
   "execution_count": null,
   "metadata": {},
   "outputs": [
    {
     "name": "stdout",
     "output_type": "stream",
     "text": [
      "---------------------------------------\n",
      "| Progress                | 0.05%     |\n",
      "| rollout/                |           |\n",
      "|    ep_len_mean          | 200       |\n",
      "|    ep_rew_mean          | -200      |\n",
      "|    num_episodes         | 24        |\n",
      "| time/                   |           |\n",
      "|    total timesteps      | 5120      |\n",
      "|    total_time           | 3.43      |\n",
      "| train/                  |           |\n",
      "|    entropy_loss         | -1.09     |\n",
      "|    icm_loss             | 2.05      |\n",
      "|    policy_gradient_loss | -9.72e-07 |\n",
      "|    total_loss           | 51.5      |\n",
      "|    value_loss           | 49.5      |\n",
      "---------------------------------------\n",
      "--------------------------------------\n",
      "| Progress                | 0.1%     |\n",
      "| rollout/                |          |\n",
      "|    ep_len_mean          | 200      |\n",
      "|    ep_rew_mean          | -200     |\n",
      "|    num_episodes         | 48       |\n",
      "| time/                   |          |\n",
      "|    total timesteps      | 10240    |\n",
      "|    total_time           | 6.97     |\n",
      "| train/                  |          |\n",
      "|    entropy_loss         | -1.09    |\n",
      "|    icm_loss             | 2.07     |\n",
      "|    policy_gradient_loss | 0.000166 |\n",
      "|    total_loss           | 41.3     |\n",
      "|    value_loss           | 39.2     |\n",
      "--------------------------------------\n"
     ]
    }
   ],
   "source": [
    "model = PPO_ICM(env = env, lr = 0.0003, nstep = 128, batch_size = 128, max_grad_norm = 0.5, hidden_size = 32, icm_hidden_size = 32)\n",
    "model.learn(total_timesteps = 1e+7, log_interval = 10)"
   ]
  },
  {
   "cell_type": "code",
   "execution_count": null,
   "metadata": {},
   "outputs": [],
   "source": []
  }
 ],
 "metadata": {
  "kernelspec": {
   "display_name": "Python 3",
   "language": "python",
   "name": "python3"
  },
  "language_info": {
   "codemirror_mode": {
    "name": "ipython",
    "version": 3
   },
   "file_extension": ".py",
   "mimetype": "text/x-python",
   "name": "python",
   "nbconvert_exporter": "python",
   "pygments_lexer": "ipython3",
   "version": "3.7.6"
  }
 },
 "nbformat": 4,
 "nbformat_minor": 4
}
