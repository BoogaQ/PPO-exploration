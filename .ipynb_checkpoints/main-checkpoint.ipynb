{
 "cells": [
  {
   "cell_type": "code",
   "execution_count": 1,
   "metadata": {},
   "outputs": [],
   "source": [
    "import warnings\n",
    "warnings.simplefilter(action='ignore', category=FutureWarning)\n",
    "\n",
    "from models import *\n",
    "from ppo import PPO, PPO_RND, PPO_ICM\n",
    "from buffer import RolloutStorage\n",
    "from env import *\n",
    "\n",
    "import torch\n",
    "import torch.distributions as distributions\n",
    "import torch.nn.functional as F\n",
    "import torch.optim\n",
    "import numpy as np\n",
    "\n",
    "import gym\n",
    "from stable_baselines3.common.cmd_util import make_vec_env\n",
    "from stable_baselines3.common.vec_env import vec_normalize, SubprocVecEnv"
   ]
  },
  {
   "cell_type": "code",
   "execution_count": 2,
   "metadata": {},
   "outputs": [],
   "source": [
    "import pybulletgym\n",
    "env = make_vec_env(\"CartPole-v1\", 4, vec_env_cls = SubprocVecEnv)\n",
    "env = VecNormalize(env)"
   ]
  },
  {
   "cell_type": "code",
   "execution_count": null,
   "metadata": {},
   "outputs": [],
   "source": [
    "model = PPO(env = env, lr = 0.0005, nstep = 128, batch_size = 128, hidden_size = 128, n_epochs = 3)\n",
    "model.learn(total_timesteps = 1e+7, log_interval = 10)"
   ]
  },
  {
   "cell_type": "code",
   "execution_count": 11,
   "metadata": {},
   "outputs": [
    {
     "data": {
      "text/plain": [
       "(tensor([[nan, nan, nan, nan],\n",
       "         [nan, nan, nan, nan],\n",
       "         [nan, nan, nan, nan],\n",
       "         [nan, nan, nan, nan]], grad_fn=<AddmmBackward>),\n",
       " tensor([[-1.0687],\n",
       "         [-1.0699],\n",
       "         [-1.0702],\n",
       "         [-1.0699]], grad_fn=<AddmmBackward>))"
      ]
     },
     "execution_count": 11,
     "metadata": {},
     "output_type": "execute_result"
    }
   ],
   "source": [
    "model.policy.net(torch.Tensor(env.reset()))"
   ]
  },
  {
   "cell_type": "code",
   "execution_count": 17,
   "metadata": {},
   "outputs": [
    {
     "data": {
      "text/plain": [
       "(tensor([[ 0.1109, -0.2911,  0.0473,  0.0434],\n",
       "         [ 0.1110, -0.2910,  0.0473,  0.0435],\n",
       "         [ 0.1110, -0.2909,  0.0473,  0.0435],\n",
       "         [ 0.1110, -0.2910,  0.0473,  0.0435]], grad_fn=<AddmmBackward>),\n",
       " tensor([[0.2219],\n",
       "         [0.2219],\n",
       "         [0.2219],\n",
       "         [0.2219]], grad_fn=<AddmmBackward>))"
      ]
     },
     "execution_count": 17,
     "metadata": {},
     "output_type": "execute_result"
    }
   ],
   "source": [
    "mlp = MlpNetwork(24, 4)\n",
    "mlp(torch.Tensor(env.reset()))"
   ]
  },
  {
   "cell_type": "code",
   "execution_count": null,
   "metadata": {},
   "outputs": [],
   "source": [
    "model = PPO_RND(env = env, lr = 0.0003, nstep = 128, batch_size = 128, max_grad_norm = 1, \n",
    "                hidden_size = 32, rnd_hidden_size = 32)\n",
    "model.learn(total_timesteps = 1e+7, log_interval = 10)\n"
   ]
  },
  {
   "cell_type": "code",
   "execution_count": null,
   "metadata": {},
   "outputs": [],
   "source": [
    "model = PPO_ICM(env = env, lr = 0.0003, icm_lr = 0.0003, nstep = 128, batch_size = 128, max_grad_norm = 1, \n",
    "                hidden_size = 64, icm_hidden_size = 64)\n",
    "model.learn(total_timesteps = 1e+7, log_interval = 10)"
   ]
  },
  {
   "cell_type": "code",
   "execution_count": null,
   "metadata": {},
   "outputs": [],
   "source": []
  }
 ],
 "metadata": {
  "kernelspec": {
   "display_name": "Python 3",
   "language": "python",
   "name": "python3"
  },
  "language_info": {
   "codemirror_mode": {
    "name": "ipython",
    "version": 3
   },
   "file_extension": ".py",
   "mimetype": "text/x-python",
   "name": "python",
   "nbconvert_exporter": "python",
   "pygments_lexer": "ipython3",
   "version": "3.7.6"
  }
 },
 "nbformat": 4,
 "nbformat_minor": 4
}
