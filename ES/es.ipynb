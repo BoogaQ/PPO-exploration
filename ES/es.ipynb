{
 "cells": [
  {
   "cell_type": "code",
   "execution_count": 1,
   "metadata": {},
   "outputs": [],
   "source": [
    "from models import *\n",
    "from es import *\n",
    "import gym\n",
    "import itertools\n",
    "import numpy as np"
   ]
  },
  {
   "cell_type": "code",
   "execution_count": 10,
   "metadata": {},
   "outputs": [],
   "source": [
    "env = gym.make(\"LunarLander-v2\")\n",
    "model = FeedForwardNetwork(env, hidden_sizes=[32, 32])"
   ]
  },
  {
   "cell_type": "code",
   "execution_count": 11,
   "metadata": {},
   "outputs": [
    {
     "name": "stdout",
     "output_type": "stream",
     "text": [
      "iter 1. reward: -456.916113. total_time: 0.470052.\n",
      "iter 2. reward: -94.883048. total_time: 0.601528.\n",
      "iter 3. reward: -74.432998. total_time: 0.717423.\n",
      "iter 4. reward: -110.231610. total_time: 0.871104.\n",
      "iter 5. reward: -314.544870. total_time: 1.002592.\n",
      "iter 6. reward: -280.129800. total_time: 1.156262.\n",
      "iter 7. reward: -61.947883. total_time: 1.318992.\n",
      "iter 8. reward: -220.754364. total_time: 1.488292.\n",
      "iter 9. reward: -262.938041. total_time: 1.657553.\n",
      "iter 10. reward: -92.811646. total_time: 1.851526.\n",
      "iter 11. reward: -355.530348. total_time: 2.036421.\n",
      "iter 12. reward: -281.814456. total_time: 2.190041.\n",
      "iter 13. reward: -126.037028. total_time: 2.321523.\n",
      "iter 14. reward: -123.040929. total_time: 2.437388.\n",
      "iter 15. reward: -76.578477. total_time: 2.575452.\n",
      "iter 16. reward: -120.548658. total_time: 2.691279.\n",
      "iter 17. reward: -143.104036. total_time: 2.807205.\n",
      "iter 18. reward: -239.671849. total_time: 2.907450.\n",
      "iter 19. reward: -93.701581. total_time: 3.007651.\n",
      "iter 20. reward: -115.268766. total_time: 3.139202.\n",
      "iter 21. reward: -135.524553. total_time: 3.255063.\n",
      "iter 22. reward: -122.107979. total_time: 3.361852.\n",
      "iter 23. reward: -152.358642. total_time: 3.451515.\n",
      "iter 24. reward: -137.317201. total_time: 3.540167.\n",
      "iter 25. reward: -138.143538. total_time: 3.640407.\n",
      "iter 26. reward: -127.262160. total_time: 3.724993.\n",
      "iter 27. reward: -129.643131. total_time: 3.809647.\n",
      "iter 28. reward: -116.670411. total_time: 3.909856.\n",
      "iter 29. reward: -116.075723. total_time: 3.994508.\n",
      "iter 30. reward: -132.255256. total_time: 4.079127.\n",
      "iter 31. reward: -123.774557. total_time: 4.163740.\n",
      "iter 32. reward: -155.224802. total_time: 4.226265.\n",
      "iter 33. reward: -122.064769. total_time: 4.295230.\n",
      "iter 34. reward: -192.899831. total_time: 4.379915.\n",
      "iter 35. reward: -107.494917. total_time: 4.464529.\n",
      "iter 36. reward: -113.664266. total_time: 4.558263.\n",
      "iter 37. reward: -149.604226. total_time: 4.642893.\n",
      "iter 38. reward: -131.678428. total_time: 4.711899.\n",
      "iter 39. reward: -113.298210. total_time: 4.780935.\n",
      "iter 40. reward: -87.565097. total_time: 4.859002.\n",
      "iter 41. reward: -118.140509. total_time: 4.928033.\n",
      "iter 42. reward: -37.279205. total_time: 5.012665.\n",
      "iter 43. reward: -48.282235. total_time: 5.128540.\n",
      "iter 44. reward: -127.788532. total_time: 5.228785.\n",
      "iter 45. reward: -86.191742. total_time: 5.328994.\n",
      "iter 46. reward: -94.111734. total_time: 5.413612.\n",
      "iter 47. reward: -77.067201. total_time: 5.513884.\n",
      "iter 48. reward: -120.838102. total_time: 5.629787.\n",
      "iter 49. reward: -105.354892. total_time: 5.761268.\n",
      "iter 50. reward: -105.125238. total_time: 5.868079.\n",
      "iter 51. reward: -103.592931. total_time: 5.946190.\n",
      "iter 52. reward: -66.256821. total_time: 6.648730.\n",
      "iter 53. reward: -0.564788. total_time: 6.737456.\n",
      "iter 54. reward: -67.413963. total_time: 6.840569.\n",
      "iter 55. reward: -117.304168. total_time: 6.939537.\n",
      "iter 56. reward: -27.893916. total_time: 7.040745.\n",
      "iter 57. reward: -93.642106. total_time: 7.128899.\n",
      "iter 58. reward: -40.904051. total_time: 7.244760.\n",
      "iter 59. reward: -34.558817. total_time: 7.329412.\n",
      "iter 60. reward: -151.587566. total_time: 7.398410.\n",
      "iter 61. reward: -54.329029. total_time: 7.514274.\n",
      "iter 62. reward: -126.142578. total_time: 7.630104.\n",
      "iter 63. reward: -63.252203. total_time: 7.714724.\n",
      "iter 64. reward: -81.320387. total_time: 7.830631.\n",
      "iter 65. reward: -31.312045. total_time: 7.899650.\n",
      "iter 66. reward: -168.055499. total_time: 7.999876.\n",
      "iter 67. reward: -92.555114. total_time: 8.100155.\n",
      "iter 68. reward: -101.801355. total_time: 8.169148.\n",
      "iter 69. reward: -86.152805. total_time: 8.247257.\n",
      "iter 70. reward: -20.231917. total_time: 8.331873.\n",
      "iter 71. reward: 27.621872. total_time: 8.432143.\n",
      "iter 72. reward: -259.494224. total_time: 8.554513.\n",
      "iter 73. reward: -50.299724. total_time: 8.670411.\n",
      "iter 74. reward: -128.996097. total_time: 8.801894.\n",
      "iter 75. reward: -9.379769. total_time: 8.949001.\n",
      "iter 76. reward: -210.820631. total_time: 9.986517.\n",
      "iter 77. reward: -45.392595. total_time: 10.095636.\n",
      "iter 78. reward: 9.348914. total_time: 10.208688.\n",
      "iter 79. reward: -296.462493. total_time: 10.329867.\n",
      "iter 80. reward: -113.015549. total_time: 10.430575.\n",
      "iter 81. reward: -86.705078. total_time: 10.559514.\n",
      "iter 82. reward: -204.337985. total_time: 10.652158.\n",
      "iter 83. reward: -38.012118. total_time: 10.761150.\n",
      "iter 84. reward: -27.429221. total_time: 10.849270.\n",
      "iter 85. reward: -129.212541. total_time: 10.965130.\n",
      "iter 86. reward: -15.037402. total_time: 11.087559.\n",
      "iter 87. reward: 247.806068. total_time: 11.984600.\n",
      "iter 88. reward: -71.350895. total_time: 12.223037.\n",
      "iter 89. reward: 25.543793. total_time: 12.354486.\n",
      "iter 90. reward: -17.258696. total_time: 12.620500.\n",
      "iter 91. reward: -13.074103. total_time: 12.761457.\n",
      "iter 92. reward: -106.835998. total_time: 12.940843.\n",
      "iter 93. reward: -175.013206. total_time: 13.092775.\n",
      "iter 94. reward: -35.634411. total_time: 13.198198.\n",
      "iter 95. reward: -98.698970. total_time: 13.997555.\n",
      "iter 96. reward: -84.618322. total_time: 14.110366.\n",
      "iter 97. reward: 17.982774. total_time: 14.211139.\n",
      "iter 98. reward: -36.976038. total_time: 14.340532.\n",
      "iter 99. reward: -82.943213. total_time: 14.565610.\n",
      "iter 100. reward: -45.106820. total_time: 14.665882.\n",
      "iter 101. reward: -86.844430. total_time: 14.797407.\n",
      "iter 102. reward: 19.959050. total_time: 14.913237.\n",
      "iter 103. reward: -66.102531. total_time: 15.013478.\n",
      "iter 104. reward: -60.112083. total_time: 15.187551.\n",
      "iter 105. reward: -19.493855. total_time: 15.329076.\n",
      "iter 106. reward: -71.965616. total_time: 15.560895.\n",
      "iter 107. reward: -57.700482. total_time: 16.171437.\n",
      "iter 108. reward: -29.251844. total_time: 16.404688.\n",
      "iter 109. reward: -72.826919. total_time: 16.620783.\n",
      "iter 110. reward: -24.098476. total_time: 16.836882.\n",
      "iter 111. reward: 14.893397. total_time: 16.968365.\n",
      "iter 112. reward: -7.785152. total_time: 17.168877.\n",
      "iter 113. reward: -11.848292. total_time: 17.970849.\n",
      "iter 114. reward: -58.341611. total_time: 18.494733.\n",
      "iter 115. reward: -77.381011. total_time: 18.717090.\n",
      "iter 116. reward: -30.591728. total_time: 18.827402.\n",
      "iter 117. reward: -25.056671. total_time: 19.005765.\n",
      "iter 118. reward: -45.871979. total_time: 19.175068.\n",
      "iter 119. reward: -18.137781. total_time: 19.306558.\n",
      "iter 120. reward: -47.160759. total_time: 19.561623.\n",
      "iter 121. reward: 11.511761. total_time: 19.878228.\n",
      "iter 122. reward: -62.877728. total_time: 20.178939.\n",
      "iter 123. reward: -89.386839. total_time: 20.578967.\n",
      "iter 124. reward: -72.840672. total_time: 20.872266.\n",
      "iter 125. reward: 168.843577. total_time: 21.104639.\n",
      "iter 126. reward: -85.529941. total_time: 21.367121.\n",
      "iter 127. reward: 219.286629. total_time: 21.801279.\n",
      "iter 128. reward: 17.682648. total_time: 22.824372.\n",
      "iter 129. reward: 185.401600. total_time: 24.009133.\n",
      "iter 130. reward: 9.008807. total_time: 24.240496.\n",
      "iter 131. reward: -159.235326. total_time: 24.532822.\n",
      "iter 132. reward: -122.207841. total_time: 25.532731.\n",
      "iter 133. reward: 68.961426. total_time: 26.636900.\n",
      "iter 134. reward: 29.916055. total_time: 27.499673.\n",
      "iter 135. reward: 27.633888. total_time: 28.045924.\n",
      "iter 136. reward: 213.764244. total_time: 29.348876.\n",
      "iter 137. reward: -27.285543. total_time: 30.090834.\n",
      "iter 138. reward: -117.821122. total_time: 31.071233.\n",
      "iter 139. reward: 213.913558. total_time: 31.910789.\n",
      "iter 140. reward: -13.924712. total_time: 32.409643.\n",
      "iter 141. reward: 50.675623. total_time: 33.265164.\n",
      "iter 142. reward: -45.917974. total_time: 34.373115.\n",
      "iter 143. reward: -204.682039. total_time: 34.636460.\n",
      "iter 144. reward: 266.066264. total_time: 35.458587.\n",
      "iter 145. reward: -116.579085. total_time: 36.269948.\n",
      "iter 146. reward: -213.224056. total_time: 36.647513.\n",
      "iter 147. reward: 27.057445. total_time: 37.204944.\n",
      "iter 148. reward: -171.908829. total_time: 37.763727.\n",
      "iter 149. reward: -207.029687. total_time: 38.088407.\n",
      "iter 150. reward: 38.287098. total_time: 38.257850.\n",
      "iter 151. reward: -82.383803. total_time: 38.583006.\n",
      "iter 152. reward: 107.910772. total_time: 38.993220.\n",
      "iter 153. reward: -177.896897. total_time: 39.515324.\n",
      "iter 154. reward: -109.892792. total_time: 39.960824.\n",
      "iter 155. reward: 0.509633. total_time: 40.455147.\n",
      "iter 156. reward: 20.217796. total_time: 41.201044.\n",
      "iter 157. reward: -236.274160. total_time: 42.239156.\n",
      "iter 158. reward: -212.406479. total_time: 42.830207.\n",
      "iter 159. reward: 4.802307. total_time: 43.397789.\n",
      "iter 160. reward: -217.725860. total_time: 44.717057.\n",
      "iter 161. reward: -3.294225. total_time: 45.898691.\n",
      "iter 162. reward: -65.705906. total_time: 46.605388.\n",
      "iter 163. reward: 12.280727. total_time: 46.987427.\n",
      "iter 164. reward: 203.317111. total_time: 47.320959.\n",
      "iter 165. reward: -7.438990. total_time: 47.744355.\n",
      "iter 166. reward: -184.959875. total_time: 48.748382.\n",
      "iter 167. reward: -79.294229. total_time: 49.586899.\n",
      "iter 168. reward: -4.768868. total_time: 50.176448.\n",
      "iter 169. reward: -31.335942. total_time: 50.414744.\n",
      "iter 170. reward: -25.784674. total_time: 51.391106.\n",
      "iter 171. reward: -107.915135. total_time: 51.687761.\n",
      "iter 172. reward: -20.843521. total_time: 52.652001.\n",
      "iter 173. reward: 11.967268. total_time: 53.459917.\n",
      "iter 174. reward: 171.525339. total_time: 55.115151.\n",
      "iter 175. reward: -144.756374. total_time: 56.189891.\n",
      "iter 176. reward: 43.832157. total_time: 56.938368.\n",
      "iter 177. reward: 198.556733. total_time: 58.283121.\n",
      "iter 178. reward: 197.262408. total_time: 59.642048.\n",
      "iter 179. reward: -21.209239. total_time: 60.156359.\n",
      "iter 180. reward: -9.753791. total_time: 61.766209.\n",
      "iter 181. reward: 32.234265. total_time: 63.650153.\n",
      "iter 182. reward: 196.318653. total_time: 64.542032.\n",
      "iter 183. reward: 192.650497. total_time: 65.150763.\n",
      "iter 184. reward: 51.652679. total_time: 66.040947.\n",
      "iter 185. reward: -1.331241. total_time: 66.995635.\n",
      "iter 186. reward: 228.356827. total_time: 68.027453.\n",
      "iter 187. reward: -2.215934. total_time: 68.710189.\n",
      "iter 188. reward: -187.641360. total_time: 70.076055.\n",
      "iter 189. reward: -19.653150. total_time: 71.384990.\n",
      "iter 190. reward: 206.907423. total_time: 72.641126.\n",
      "iter 191. reward: -44.575300. total_time: 74.332264.\n",
      "iter 192. reward: -61.301213. total_time: 76.018811.\n",
      "iter 193. reward: -3.083540. total_time: 77.980713.\n",
      "iter 194. reward: 130.836469. total_time: 80.200205.\n",
      "iter 195. reward: 146.110712. total_time: 83.317597.\n",
      "iter 196. reward: -27.323627. total_time: 85.675262.\n",
      "iter 197. reward: 134.937334. total_time: 87.647561.\n",
      "iter 198. reward: -11.563794. total_time: 89.860572.\n",
      "iter 199. reward: 93.431681. total_time: 93.381717.\n",
      "iter 200. reward: 106.303591. total_time: 96.460369.\n",
      "iter 201. reward: 188.355051. total_time: 98.766795.\n",
      "iter 202. reward: 30.059683. total_time: 101.200488.\n",
      "iter 203. reward: 203.449064. total_time: 106.048362.\n"
     ]
    },
    {
     "ename": "KeyboardInterrupt",
     "evalue": "",
     "output_type": "error",
     "traceback": [
      "\u001b[1;31m---------------------------------------------------------------------------\u001b[0m",
      "\u001b[1;31mKeyboardInterrupt\u001b[0m                         Traceback (most recent call last)",
      "\u001b[1;32m<ipython-input-11-62ab9f8aaa44>\u001b[0m in \u001b[0;36m<module>\u001b[1;34m\u001b[0m\n\u001b[0;32m      1\u001b[0m es = EvolutionStrategy(model, \n\u001b[0;32m      2\u001b[0m                        env, population_size=20, sigma=0.1, learning_rate=0.03, decay=0.995, num_threads=4)\n\u001b[1;32m----> 3\u001b[1;33m \u001b[0mes\u001b[0m\u001b[1;33m.\u001b[0m\u001b[0mrun\u001b[0m\u001b[1;33m(\u001b[0m\u001b[1;36m1000\u001b[0m\u001b[1;33m,\u001b[0m \u001b[0mprint_step\u001b[0m\u001b[1;33m=\u001b[0m\u001b[1;36m1\u001b[0m\u001b[1;33m)\u001b[0m\u001b[1;33m\u001b[0m\u001b[1;33m\u001b[0m\u001b[0m\n\u001b[0m",
      "\u001b[1;32m~\\Documents\\MSc Data Analytics\\Reinforcement Learning\\PPO\\ES\\es.py\u001b[0m in \u001b[0;36mrun\u001b[1;34m(self, iterations, print_step)\u001b[0m\n\u001b[0;32m     90\u001b[0m \u001b[1;33m\u001b[0m\u001b[0m\n\u001b[0;32m     91\u001b[0m             \u001b[0mpopulation\u001b[0m \u001b[1;33m=\u001b[0m \u001b[0mself\u001b[0m\u001b[1;33m.\u001b[0m\u001b[0m_get_population\u001b[0m\u001b[1;33m(\u001b[0m\u001b[1;33m)\u001b[0m\u001b[1;33m\u001b[0m\u001b[1;33m\u001b[0m\u001b[0m\n\u001b[1;32m---> 92\u001b[1;33m             \u001b[0mrewards\u001b[0m \u001b[1;33m=\u001b[0m \u001b[0mself\u001b[0m\u001b[1;33m.\u001b[0m\u001b[0m_get_rewards\u001b[0m\u001b[1;33m(\u001b[0m\u001b[0mpool\u001b[0m\u001b[1;33m,\u001b[0m \u001b[0mpopulation\u001b[0m\u001b[1;33m)\u001b[0m\u001b[1;33m\u001b[0m\u001b[1;33m\u001b[0m\u001b[0m\n\u001b[0m\u001b[0;32m     93\u001b[0m \u001b[1;33m\u001b[0m\u001b[0m\n\u001b[0;32m     94\u001b[0m             \u001b[0mself\u001b[0m\u001b[1;33m.\u001b[0m\u001b[0m_update_weights\u001b[0m\u001b[1;33m(\u001b[0m\u001b[0mrewards\u001b[0m\u001b[1;33m,\u001b[0m \u001b[0mpopulation\u001b[0m\u001b[1;33m)\u001b[0m\u001b[1;33m\u001b[0m\u001b[1;33m\u001b[0m\u001b[0m\n",
      "\u001b[1;32m~\\Documents\\MSc Data Analytics\\Reinforcement Learning\\PPO\\ES\\es.py\u001b[0m in \u001b[0;36m_get_rewards\u001b[1;34m(self, pool, population)\u001b[0m\n\u001b[0;32m     62\u001b[0m         \u001b[1;32mif\u001b[0m \u001b[0mpool\u001b[0m \u001b[1;32mis\u001b[0m \u001b[1;32mnot\u001b[0m \u001b[1;32mNone\u001b[0m\u001b[1;33m:\u001b[0m\u001b[1;33m\u001b[0m\u001b[1;33m\u001b[0m\u001b[0m\n\u001b[0;32m     63\u001b[0m             \u001b[0mworker_args\u001b[0m \u001b[1;33m=\u001b[0m \u001b[1;33m(\u001b[0m\u001b[1;33m(\u001b[0m\u001b[0mself\u001b[0m\u001b[1;33m.\u001b[0m\u001b[0mevaluate\u001b[0m\u001b[1;33m,\u001b[0m \u001b[0mself\u001b[0m\u001b[1;33m.\u001b[0m\u001b[0m_get_weights_try\u001b[0m\u001b[1;33m(\u001b[0m\u001b[0mself\u001b[0m\u001b[1;33m.\u001b[0m\u001b[0mweights\u001b[0m\u001b[1;33m,\u001b[0m \u001b[0mp\u001b[0m\u001b[1;33m)\u001b[0m\u001b[1;33m,\u001b[0m \u001b[0mself\u001b[0m\u001b[1;33m.\u001b[0m\u001b[0menv\u001b[0m\u001b[1;33m)\u001b[0m \u001b[1;32mfor\u001b[0m \u001b[0mp\u001b[0m \u001b[1;32min\u001b[0m \u001b[0mpopulation\u001b[0m\u001b[1;33m)\u001b[0m\u001b[1;33m\u001b[0m\u001b[1;33m\u001b[0m\u001b[0m\n\u001b[1;32m---> 64\u001b[1;33m             \u001b[0mrewards\u001b[0m \u001b[1;33m=\u001b[0m \u001b[0mpool\u001b[0m\u001b[1;33m.\u001b[0m\u001b[0mmap\u001b[0m\u001b[1;33m(\u001b[0m\u001b[0mworker_process\u001b[0m\u001b[1;33m,\u001b[0m \u001b[0mworker_args\u001b[0m\u001b[1;33m)\u001b[0m\u001b[1;33m\u001b[0m\u001b[1;33m\u001b[0m\u001b[0m\n\u001b[0m\u001b[0;32m     65\u001b[0m \u001b[1;33m\u001b[0m\u001b[0m\n\u001b[0;32m     66\u001b[0m         \u001b[1;32melse\u001b[0m\u001b[1;33m:\u001b[0m\u001b[1;33m\u001b[0m\u001b[1;33m\u001b[0m\u001b[0m\n",
      "\u001b[1;32m~\\anaconda3\\lib\\multiprocessing\\pool.py\u001b[0m in \u001b[0;36mmap\u001b[1;34m(self, func, iterable, chunksize)\u001b[0m\n\u001b[0;32m    266\u001b[0m         \u001b[1;32min\u001b[0m \u001b[0ma\u001b[0m \u001b[0mlist\u001b[0m \u001b[0mthat\u001b[0m \u001b[1;32mis\u001b[0m \u001b[0mreturned\u001b[0m\u001b[1;33m.\u001b[0m\u001b[1;33m\u001b[0m\u001b[1;33m\u001b[0m\u001b[0m\n\u001b[0;32m    267\u001b[0m         '''\n\u001b[1;32m--> 268\u001b[1;33m         \u001b[1;32mreturn\u001b[0m \u001b[0mself\u001b[0m\u001b[1;33m.\u001b[0m\u001b[0m_map_async\u001b[0m\u001b[1;33m(\u001b[0m\u001b[0mfunc\u001b[0m\u001b[1;33m,\u001b[0m \u001b[0miterable\u001b[0m\u001b[1;33m,\u001b[0m \u001b[0mmapstar\u001b[0m\u001b[1;33m,\u001b[0m \u001b[0mchunksize\u001b[0m\u001b[1;33m)\u001b[0m\u001b[1;33m.\u001b[0m\u001b[0mget\u001b[0m\u001b[1;33m(\u001b[0m\u001b[1;33m)\u001b[0m\u001b[1;33m\u001b[0m\u001b[1;33m\u001b[0m\u001b[0m\n\u001b[0m\u001b[0;32m    269\u001b[0m \u001b[1;33m\u001b[0m\u001b[0m\n\u001b[0;32m    270\u001b[0m     \u001b[1;32mdef\u001b[0m \u001b[0mstarmap\u001b[0m\u001b[1;33m(\u001b[0m\u001b[0mself\u001b[0m\u001b[1;33m,\u001b[0m \u001b[0mfunc\u001b[0m\u001b[1;33m,\u001b[0m \u001b[0miterable\u001b[0m\u001b[1;33m,\u001b[0m \u001b[0mchunksize\u001b[0m\u001b[1;33m=\u001b[0m\u001b[1;32mNone\u001b[0m\u001b[1;33m)\u001b[0m\u001b[1;33m:\u001b[0m\u001b[1;33m\u001b[0m\u001b[1;33m\u001b[0m\u001b[0m\n",
      "\u001b[1;32m~\\anaconda3\\lib\\multiprocessing\\pool.py\u001b[0m in \u001b[0;36mget\u001b[1;34m(self, timeout)\u001b[0m\n\u001b[0;32m    649\u001b[0m \u001b[1;33m\u001b[0m\u001b[0m\n\u001b[0;32m    650\u001b[0m     \u001b[1;32mdef\u001b[0m \u001b[0mget\u001b[0m\u001b[1;33m(\u001b[0m\u001b[0mself\u001b[0m\u001b[1;33m,\u001b[0m \u001b[0mtimeout\u001b[0m\u001b[1;33m=\u001b[0m\u001b[1;32mNone\u001b[0m\u001b[1;33m)\u001b[0m\u001b[1;33m:\u001b[0m\u001b[1;33m\u001b[0m\u001b[1;33m\u001b[0m\u001b[0m\n\u001b[1;32m--> 651\u001b[1;33m         \u001b[0mself\u001b[0m\u001b[1;33m.\u001b[0m\u001b[0mwait\u001b[0m\u001b[1;33m(\u001b[0m\u001b[0mtimeout\u001b[0m\u001b[1;33m)\u001b[0m\u001b[1;33m\u001b[0m\u001b[1;33m\u001b[0m\u001b[0m\n\u001b[0m\u001b[0;32m    652\u001b[0m         \u001b[1;32mif\u001b[0m \u001b[1;32mnot\u001b[0m \u001b[0mself\u001b[0m\u001b[1;33m.\u001b[0m\u001b[0mready\u001b[0m\u001b[1;33m(\u001b[0m\u001b[1;33m)\u001b[0m\u001b[1;33m:\u001b[0m\u001b[1;33m\u001b[0m\u001b[1;33m\u001b[0m\u001b[0m\n\u001b[0;32m    653\u001b[0m             \u001b[1;32mraise\u001b[0m \u001b[0mTimeoutError\u001b[0m\u001b[1;33m\u001b[0m\u001b[1;33m\u001b[0m\u001b[0m\n",
      "\u001b[1;32m~\\anaconda3\\lib\\multiprocessing\\pool.py\u001b[0m in \u001b[0;36mwait\u001b[1;34m(self, timeout)\u001b[0m\n\u001b[0;32m    646\u001b[0m \u001b[1;33m\u001b[0m\u001b[0m\n\u001b[0;32m    647\u001b[0m     \u001b[1;32mdef\u001b[0m \u001b[0mwait\u001b[0m\u001b[1;33m(\u001b[0m\u001b[0mself\u001b[0m\u001b[1;33m,\u001b[0m \u001b[0mtimeout\u001b[0m\u001b[1;33m=\u001b[0m\u001b[1;32mNone\u001b[0m\u001b[1;33m)\u001b[0m\u001b[1;33m:\u001b[0m\u001b[1;33m\u001b[0m\u001b[1;33m\u001b[0m\u001b[0m\n\u001b[1;32m--> 648\u001b[1;33m         \u001b[0mself\u001b[0m\u001b[1;33m.\u001b[0m\u001b[0m_event\u001b[0m\u001b[1;33m.\u001b[0m\u001b[0mwait\u001b[0m\u001b[1;33m(\u001b[0m\u001b[0mtimeout\u001b[0m\u001b[1;33m)\u001b[0m\u001b[1;33m\u001b[0m\u001b[1;33m\u001b[0m\u001b[0m\n\u001b[0m\u001b[0;32m    649\u001b[0m \u001b[1;33m\u001b[0m\u001b[0m\n\u001b[0;32m    650\u001b[0m     \u001b[1;32mdef\u001b[0m \u001b[0mget\u001b[0m\u001b[1;33m(\u001b[0m\u001b[0mself\u001b[0m\u001b[1;33m,\u001b[0m \u001b[0mtimeout\u001b[0m\u001b[1;33m=\u001b[0m\u001b[1;32mNone\u001b[0m\u001b[1;33m)\u001b[0m\u001b[1;33m:\u001b[0m\u001b[1;33m\u001b[0m\u001b[1;33m\u001b[0m\u001b[0m\n",
      "\u001b[1;32m~\\anaconda3\\lib\\threading.py\u001b[0m in \u001b[0;36mwait\u001b[1;34m(self, timeout)\u001b[0m\n\u001b[0;32m    550\u001b[0m             \u001b[0msignaled\u001b[0m \u001b[1;33m=\u001b[0m \u001b[0mself\u001b[0m\u001b[1;33m.\u001b[0m\u001b[0m_flag\u001b[0m\u001b[1;33m\u001b[0m\u001b[1;33m\u001b[0m\u001b[0m\n\u001b[0;32m    551\u001b[0m             \u001b[1;32mif\u001b[0m \u001b[1;32mnot\u001b[0m \u001b[0msignaled\u001b[0m\u001b[1;33m:\u001b[0m\u001b[1;33m\u001b[0m\u001b[1;33m\u001b[0m\u001b[0m\n\u001b[1;32m--> 552\u001b[1;33m                 \u001b[0msignaled\u001b[0m \u001b[1;33m=\u001b[0m \u001b[0mself\u001b[0m\u001b[1;33m.\u001b[0m\u001b[0m_cond\u001b[0m\u001b[1;33m.\u001b[0m\u001b[0mwait\u001b[0m\u001b[1;33m(\u001b[0m\u001b[0mtimeout\u001b[0m\u001b[1;33m)\u001b[0m\u001b[1;33m\u001b[0m\u001b[1;33m\u001b[0m\u001b[0m\n\u001b[0m\u001b[0;32m    553\u001b[0m             \u001b[1;32mreturn\u001b[0m \u001b[0msignaled\u001b[0m\u001b[1;33m\u001b[0m\u001b[1;33m\u001b[0m\u001b[0m\n\u001b[0;32m    554\u001b[0m \u001b[1;33m\u001b[0m\u001b[0m\n",
      "\u001b[1;32m~\\anaconda3\\lib\\threading.py\u001b[0m in \u001b[0;36mwait\u001b[1;34m(self, timeout)\u001b[0m\n\u001b[0;32m    294\u001b[0m         \u001b[1;32mtry\u001b[0m\u001b[1;33m:\u001b[0m    \u001b[1;31m# restore state no matter what (e.g., KeyboardInterrupt)\u001b[0m\u001b[1;33m\u001b[0m\u001b[1;33m\u001b[0m\u001b[0m\n\u001b[0;32m    295\u001b[0m             \u001b[1;32mif\u001b[0m \u001b[0mtimeout\u001b[0m \u001b[1;32mis\u001b[0m \u001b[1;32mNone\u001b[0m\u001b[1;33m:\u001b[0m\u001b[1;33m\u001b[0m\u001b[1;33m\u001b[0m\u001b[0m\n\u001b[1;32m--> 296\u001b[1;33m                 \u001b[0mwaiter\u001b[0m\u001b[1;33m.\u001b[0m\u001b[0macquire\u001b[0m\u001b[1;33m(\u001b[0m\u001b[1;33m)\u001b[0m\u001b[1;33m\u001b[0m\u001b[1;33m\u001b[0m\u001b[0m\n\u001b[0m\u001b[0;32m    297\u001b[0m                 \u001b[0mgotit\u001b[0m \u001b[1;33m=\u001b[0m \u001b[1;32mTrue\u001b[0m\u001b[1;33m\u001b[0m\u001b[1;33m\u001b[0m\u001b[0m\n\u001b[0;32m    298\u001b[0m             \u001b[1;32melse\u001b[0m\u001b[1;33m:\u001b[0m\u001b[1;33m\u001b[0m\u001b[1;33m\u001b[0m\u001b[0m\n",
      "\u001b[1;31mKeyboardInterrupt\u001b[0m: "
     ]
    }
   ],
   "source": [
    "es = EvolutionStrategy(model, \n",
    "                       env, population_size=20, sigma=0.1, learning_rate=0.03, decay=0.995, num_threads=4)\n",
    "es.run(1000, print_step=1)"
   ]
  },
  {
   "cell_type": "code",
   "execution_count": null,
   "metadata": {},
   "outputs": [],
   "source": [
    "a = model.predict(env.reset())"
   ]
  },
  {
   "cell_type": "code",
   "execution_count": null,
   "metadata": {},
   "outputs": [],
   "source": [
    "np.random.choice([1,2], p=a)"
   ]
  },
  {
   "cell_type": "code",
   "execution_count": null,
   "metadata": {},
   "outputs": [],
   "source": [
    "a = np.array([[1,2,3,4]])\n",
    "a.squeeze()"
   ]
  },
  {
   "cell_type": "code",
   "execution_count": 5,
   "metadata": {},
   "outputs": [
    {
     "data": {
      "text/plain": [
       "array([0, 1])"
      ]
     },
     "execution_count": 5,
     "metadata": {},
     "output_type": "execute_result"
    }
   ],
   "source": [
    "np.arange(2)"
   ]
  },
  {
   "cell_type": "code",
   "execution_count": 26,
   "metadata": {},
   "outputs": [
    {
     "data": {
      "text/plain": [
       "array([ 0.77306822,  3.14815466, -5.37493415])"
      ]
     },
     "execution_count": 26,
     "metadata": {},
     "output_type": "execute_result"
    }
   ],
   "source": [
    "np.random.normal(np.array([1,2,3]), np.array([1,2,3]))"
   ]
  }
 ],
 "metadata": {
  "kernelspec": {
   "display_name": "Python 3",
   "language": "python",
   "name": "python3"
  },
  "language_info": {
   "codemirror_mode": {
    "name": "ipython",
    "version": 3
   },
   "file_extension": ".py",
   "mimetype": "text/x-python",
   "name": "python",
   "nbconvert_exporter": "python",
   "pygments_lexer": "ipython3",
   "version": "3.7.6"
  }
 },
 "nbformat": 4,
 "nbformat_minor": 4
}
