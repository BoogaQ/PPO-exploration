{
 "cells": [
  {
   "cell_type": "code",
   "execution_count": 1,
   "metadata": {},
   "outputs": [],
   "source": [
    "from models import *\n",
    "from es import *\n",
    "import gym\n",
    "import itertools\n",
    "import numpy as np"
   ]
  },
  {
   "cell_type": "code",
   "execution_count": 2,
   "metadata": {},
   "outputs": [],
   "source": [
    "\n"
   ]
  },
  {
   "cell_type": "code",
   "execution_count": 3,
   "metadata": {},
   "outputs": [
    {
     "name": "stdout",
     "output_type": "stream",
     "text": [
      "iter 1. reward: 40.000000. total_time: 2.812584.\n",
      "iter 2. reward: 28.000000. total_time: 2.828203.\n",
      "iter 3. reward: 27.333333. total_time: 2.843825.\n",
      "iter 4. reward: 26.500000. total_time: 2.859447.\n",
      "iter 5. reward: 25.200000. total_time: 2.881605.\n",
      "iter 6. reward: 26.333333. total_time: 2.912885.\n",
      "iter 7. reward: 27.285714. total_time: 2.928474.\n",
      "iter 8. reward: 29.750000. total_time: 2.959752.\n",
      "iter 9. reward: 30.333333. total_time: 2.981885.\n",
      "iter 10. reward: 30.300000. total_time: 2.997511.\n",
      "iter 11. reward: 37.300000. total_time: 3.044406.\n",
      "iter 12. reward: 41.700000. total_time: 3.082191.\n",
      "iter 13. reward: 46.300000. total_time: 3.113479.\n",
      "iter 14. reward: 49.000000. total_time: 3.160300.\n",
      "iter 15. reward: 58.600000. total_time: 3.213677.\n",
      "iter 16. reward: 66.600000. total_time: 3.260573.\n",
      "iter 17. reward: 75.900000. total_time: 3.313947.\n",
      "iter 18. reward: 99.200000. total_time: 3.382957.\n",
      "iter 19. reward: 121.200000. total_time: 3.476715.\n",
      "iter 20. reward: 161.700000. total_time: 3.583513.\n",
      "iter 21. reward: 185.700000. total_time: 3.761866.\n",
      "iter 22. reward: 229.700000. total_time: 3.954829.\n",
      "iter 23. reward: 272.500000. total_time: 4.147930.\n",
      "iter 24. reward: 317.400000. total_time: 4.347149.\n",
      "iter 25. reward: 331.700000. total_time: 4.529977.\n",
      "iter 26. reward: 370.500000. total_time: 4.718819.\n",
      "iter 27. reward: 407.900000. total_time: 4.921463.\n",
      "iter 28. reward: 429.900000. total_time: 5.112386.\n",
      "iter 29. reward: 454.400000. total_time: 5.313075.\n",
      "iter 30. reward: 460.900000. total_time: 5.524045.\n",
      "iter 31. reward: 475.900000. total_time: 5.725001.\n",
      "iter 32. reward: 454.200000. total_time: 5.916023.\n",
      "iter 33. reward: 454.200000. total_time: 6.114944.\n",
      "iter 34. reward: 454.200000. total_time: 6.338138.\n",
      "iter 35. reward: 478.300000. total_time: 6.559681.\n",
      "iter 36. reward: 478.300000. total_time: 6.770588.\n",
      "iter 37. reward: 478.300000. total_time: 6.989640.\n",
      "iter 38. reward: 478.300000. total_time: 7.196142.\n",
      "iter 39. reward: 478.300000. total_time: 7.413035.\n",
      "iter 40. reward: 478.300000. total_time: 7.642369.\n"
     ]
    },
    {
     "name": "stderr",
     "output_type": "stream",
     "text": [
      "ERROR:root:Internal Python error in the inspect module.\n",
      "Below is the traceback from this internal error.\n",
      "\n"
     ]
    },
    {
     "name": "stdout",
     "output_type": "stream",
     "text": [
      "Traceback (most recent call last):\n",
      "  File \"C:\\Users\\ktiju\\anaconda3\\lib\\site-packages\\IPython\\core\\interactiveshell.py\", line 3331, in run_code\n",
      "    exec(code_obj, self.user_global_ns, self.user_ns)\n",
      "  File \"<ipython-input-3-ee455afb3167>\", line 2, in <module>\n",
      "    es.run(1000, print_step=1)\n",
      "  File \"C:\\Users\\ktiju\\Documents\\MSc Data Analytics\\Reinforcement Learning\\PPO\\ES\\es.py\", line 144, in run\n",
      "    rewards = self._get_rewards(pool, population)\n",
      "  File \"C:\\Users\\ktiju\\Documents\\MSc Data Analytics\\Reinforcement Learning\\PPO\\ES\\es.py\", line 70, in _get_rewards\n",
      "    rewards = pool.map(worker_process, worker_args)\n",
      "  File \"C:\\Users\\ktiju\\anaconda3\\lib\\multiprocessing\\pool.py\", line 268, in map\n",
      "    return self._map_async(func, iterable, mapstar, chunksize).get()\n",
      "  File \"C:\\Users\\ktiju\\anaconda3\\lib\\multiprocessing\\pool.py\", line 651, in get\n",
      "    self.wait(timeout)\n",
      "  File \"C:\\Users\\ktiju\\anaconda3\\lib\\multiprocessing\\pool.py\", line 648, in wait\n",
      "    self._event.wait(timeout)\n",
      "  File \"C:\\Users\\ktiju\\anaconda3\\lib\\threading.py\", line 552, in wait\n",
      "    signaled = self._cond.wait(timeout)\n",
      "  File \"C:\\Users\\ktiju\\anaconda3\\lib\\threading.py\", line 296, in wait\n",
      "    waiter.acquire()\n",
      "KeyboardInterrupt\n",
      "\n",
      "During handling of the above exception, another exception occurred:\n",
      "\n",
      "Traceback (most recent call last):\n",
      "  File \"C:\\Users\\ktiju\\anaconda3\\lib\\site-packages\\IPython\\core\\interactiveshell.py\", line 2044, in showtraceback\n",
      "    stb = value._render_traceback_()\n",
      "AttributeError: 'KeyboardInterrupt' object has no attribute '_render_traceback_'\n",
      "\n",
      "During handling of the above exception, another exception occurred:\n",
      "\n",
      "Traceback (most recent call last):\n",
      "  File \"C:\\Users\\ktiju\\anaconda3\\lib\\site-packages\\IPython\\core\\ultratb.py\", line 1151, in get_records\n",
      "    return _fixed_getinnerframes(etb, number_of_lines_of_context, tb_offset)\n",
      "  File \"C:\\Users\\ktiju\\anaconda3\\lib\\site-packages\\IPython\\core\\ultratb.py\", line 319, in wrapped\n",
      "    return f(*args, **kwargs)\n",
      "  File \"C:\\Users\\ktiju\\anaconda3\\lib\\site-packages\\IPython\\core\\ultratb.py\", line 353, in _fixed_getinnerframes\n",
      "    records = fix_frame_records_filenames(inspect.getinnerframes(etb, context))\n",
      "  File \"C:\\Users\\ktiju\\anaconda3\\lib\\inspect.py\", line 1502, in getinnerframes\n",
      "    frameinfo = (tb.tb_frame,) + getframeinfo(tb, context)\n",
      "  File \"C:\\Users\\ktiju\\anaconda3\\lib\\inspect.py\", line 1460, in getframeinfo\n",
      "    filename = getsourcefile(frame) or getfile(frame)\n",
      "  File \"C:\\Users\\ktiju\\anaconda3\\lib\\inspect.py\", line 696, in getsourcefile\n",
      "    if getattr(getmodule(object, filename), '__loader__', None) is not None:\n",
      "  File \"C:\\Users\\ktiju\\anaconda3\\lib\\inspect.py\", line 739, in getmodule\n",
      "    f = getabsfile(module)\n",
      "  File \"C:\\Users\\ktiju\\anaconda3\\lib\\inspect.py\", line 708, in getabsfile\n",
      "    _filename = getsourcefile(object) or getfile(object)\n",
      "  File \"C:\\Users\\ktiju\\anaconda3\\lib\\inspect.py\", line 693, in getsourcefile\n",
      "    if os.path.exists(filename):\n",
      "  File \"C:\\Users\\ktiju\\anaconda3\\lib\\genericpath.py\", line 19, in exists\n",
      "    os.stat(path)\n",
      "KeyboardInterrupt\n"
     ]
    },
    {
     "ename": "KeyboardInterrupt",
     "evalue": "",
     "output_type": "error",
     "traceback": [
      "\u001b[1;31m---------------------------------------------------------------------------\u001b[0m"
     ]
    }
   ],
   "source": [
    "es = EvolutionStrategy(env_id, hidden_sizes = [16, 16], population_size=20, sigma=0.1, learning_rate=0.05, decay=0.995, num_threads=16)\n",
    "es.run(1000, print_step=1)"
   ]
  },
  {
   "cell_type": "code",
   "execution_count": null,
   "metadata": {},
   "outputs": [],
   "source": [
    "a = model.predict(env.reset())"
   ]
  },
  {
   "cell_type": "code",
   "execution_count": null,
   "metadata": {},
   "outputs": [],
   "source": [
    "np.random.choice([1,2], p=a)"
   ]
  },
  {
   "cell_type": "code",
   "execution_count": null,
   "metadata": {},
   "outputs": [],
   "source": [
    "a = np.array([[1,2,3,4]])\n",
    "a.squeeze()"
   ]
  }
 ],
 "metadata": {
  "kernelspec": {
   "display_name": "Python 3",
   "language": "python",
   "name": "python3"
  },
  "language_info": {
   "codemirror_mode": {
    "name": "ipython",
    "version": 3
   },
   "file_extension": ".py",
   "mimetype": "text/x-python",
   "name": "python",
   "nbconvert_exporter": "python",
   "pygments_lexer": "ipython3",
   "version": "3.7.6"
  }
 },
 "nbformat": 4,
 "nbformat_minor": 4
}
